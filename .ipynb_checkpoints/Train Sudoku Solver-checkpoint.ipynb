{
 "cells": [
  {
   "cell_type": "code",
   "execution_count": 1,
   "metadata": {},
   "outputs": [],
   "source": [
    "import numpy as np\n",
    "import torch\n",
    "import torch.nn as nn\n",
    "import torch.nn.functional as F\n",
    "import torch.optim as optim\n",
    "from torch.autograd import Variable"
   ]
  },
  {
   "cell_type": "code",
   "execution_count": 2,
   "metadata": {},
   "outputs": [],
   "source": [
    "import cv2"
   ]
  },
  {
   "cell_type": "code",
   "execution_count": 3,
   "metadata": {},
   "outputs": [],
   "source": [
    "import glob"
   ]
  },
  {
   "cell_type": "code",
   "execution_count": 4,
   "metadata": {},
   "outputs": [],
   "source": [
    "a = glob.glob('Digitdata/*/*')"
   ]
  },
  {
   "cell_type": "code",
   "execution_count": 5,
   "metadata": {},
   "outputs": [
    {
     "data": {
      "text/plain": [
       "109"
      ]
     },
     "execution_count": 5,
     "metadata": {},
     "output_type": "execute_result"
    }
   ],
   "source": [
    "len(a)"
   ]
  },
  {
   "cell_type": "code",
   "execution_count": 6,
   "metadata": {},
   "outputs": [],
   "source": [
    "targets = [int(i.split('\\\\')[1]) for i in a]"
   ]
  },
  {
   "cell_type": "code",
   "execution_count": 7,
   "metadata": {},
   "outputs": [],
   "source": [
    "data_list = list(zip(a, targets))"
   ]
  },
  {
   "cell_type": "code",
   "execution_count": 8,
   "metadata": {},
   "outputs": [],
   "source": [
    "import random"
   ]
  },
  {
   "cell_type": "code",
   "execution_count": 9,
   "metadata": {},
   "outputs": [],
   "source": [
    "random.shuffle(data_list)"
   ]
  },
  {
   "cell_type": "code",
   "execution_count": 10,
   "metadata": {},
   "outputs": [],
   "source": [
    "x, y = zip(*data_list)"
   ]
  },
  {
   "cell_type": "code",
   "execution_count": 11,
   "metadata": {},
   "outputs": [],
   "source": [
    "# hyperparameters\n",
    "input_size = 784\n",
    "output_size = 10\n",
    "hidden_size = 200\n",
    "\n",
    "class Network(nn.Module):\n",
    "    \n",
    "    def __init__(self):\n",
    "        super(Network, self).__init__()\n",
    "        self.l1 = nn.Linear(input_size, hidden_size)\n",
    "        self.relu = nn.ReLU()\n",
    "        self.l3 = nn.Linear(hidden_size, output_size)\n",
    "        \n",
    "    def forward(self, x):\n",
    "        x = self.l1(x)\n",
    "        x = self.relu(x)\n",
    "        x = self.l3(x)\n",
    "        return F.log_softmax(x, dim=-1)\n",
    "    \n",
    "model = Network()"
   ]
  },
  {
   "cell_type": "code",
   "execution_count": 12,
   "metadata": {},
   "outputs": [],
   "source": [
    "criterion = nn.NLLLoss()\n",
    "optimiser = optim.Adam(model.parameters(), lr=0.001)"
   ]
  },
  {
   "cell_type": "code",
   "execution_count": 13,
   "metadata": {},
   "outputs": [],
   "source": [
    "epochs = 20"
   ]
  },
  {
   "cell_type": "code",
   "execution_count": 14,
   "metadata": {},
   "outputs": [],
   "source": [
    "# y = [i - 1 for i in y]"
   ]
  },
  {
   "cell_type": "code",
   "execution_count": 15,
   "metadata": {},
   "outputs": [
    {
     "name": "stdout",
     "output_type": "stream",
     "text": [
      "Accuracy for epoch 0 is 72.477064\n",
      "Accuracy for epoch 1 is 97.247706\n",
      "Accuracy for epoch 2 is 99.082569\n",
      "Accuracy for epoch 3 is 96.330275\n",
      "Accuracy for epoch 4 is 98.165138\n",
      "Accuracy for epoch 5 is 89.908257\n",
      "Accuracy for epoch 6 is 98.165138\n",
      "Accuracy for epoch 7 is 100.000000\n",
      "Accuracy for epoch 8 is 100.000000\n",
      "Accuracy for epoch 9 is 100.000000\n",
      "Accuracy for epoch 10 is 100.000000\n",
      "Accuracy for epoch 11 is 100.000000\n",
      "Accuracy for epoch 12 is 100.000000\n",
      "Accuracy for epoch 13 is 100.000000\n",
      "Accuracy for epoch 14 is 100.000000\n",
      "Accuracy for epoch 15 is 100.000000\n",
      "Accuracy for epoch 16 is 100.000000\n",
      "Accuracy for epoch 17 is 100.000000\n",
      "Accuracy for epoch 18 is 100.000000\n",
      "Accuracy for epoch 19 is 100.000000\n"
     ]
    }
   ],
   "source": [
    "# def calAcc(X, Y, model=model):\n",
    "#     model.eval()\n",
    "#     acc = 0\n",
    "#     for x, y in zip(X,Y):\n",
    "#         x_im = torch.tensor(cv2.imread(x, cv2.IMREAD_GRAYSCALE).reshape(1,-1), dtype=torch.float)\n",
    "#         y_out = model(x_im)\n",
    "#         out = torch.argmax(y_out.data, 1)[0].item()\n",
    "#         if out==y:\n",
    "#             acc += 1\n",
    "#     return acc/len(X)\n",
    "        \n",
    "def calAcc(X, Y, model=model):\n",
    "    model.eval()\n",
    "    acc = 0\n",
    "    for x_, y_ in zip(X,Y):\n",
    "        x_im = torch.tensor(cv2.imread(x_, cv2.IMREAD_GRAYSCALE).reshape(1,-1), dtype=torch.float)\n",
    "        y_out = model(x_im)\n",
    "        out = torch.argmax(y_out.data, 1)[0].item()\n",
    "#         print(\"out is\",out)\n",
    "        if out==y_:\n",
    "            acc += 1\n",
    "    return acc/len(X)\n",
    "\n",
    "losses = []\n",
    "model.train()\n",
    "for e in range(epochs):\n",
    "    for x_raw, y_raw in zip(x, y):\n",
    "        x_image = cv2.imread(x_raw, cv2.IMREAD_GRAYSCALE)\n",
    "        x_in = torch.tensor(x_image.reshape(1, -1), dtype=torch.float)\n",
    "        y_in = torch.tensor(y_raw, dtype=torch.long).reshape(1,)\n",
    "        optimiser.zero_grad()\n",
    "        y_out = model(x_in)\n",
    "        loss = criterion(y_out, y_in)\n",
    "        losses.append(loss.item())\n",
    "        loss.backward()\n",
    "        optimiser.step()\n",
    "    acc = calAcc(x, y, model)\n",
    "    print(\"Accuracy for epoch %d is %f\" % (e, acc*100))"
   ]
  },
  {
   "cell_type": "code",
   "execution_count": 16,
   "metadata": {},
   "outputs": [],
   "source": [
    "import matplotlib.pyplot as plt"
   ]
  },
  {
   "cell_type": "code",
   "execution_count": 17,
   "metadata": {},
   "outputs": [
    {
     "data": {
      "text/plain": [
       "[<matplotlib.lines.Line2D at 0x2713b87fdc8>]"
      ]
     },
     "execution_count": 17,
     "metadata": {},
     "output_type": "execute_result"
    },
    {
     "data": {
      "image/png": "[encoded data removed]",
      "text/plain": [
       "<Figure size 432x288 with 1 Axes>"
      ]
     },
     "metadata": {
      "needs_background": "light"
     },
     "output_type": "display_data"
    }
   ],
   "source": [
    "plt.plot(losses)"
   ]
  },
  {
   "cell_type": "code",
   "execution_count": 18,
   "metadata": {},
   "outputs": [],
   "source": [
    "def calAcc(X, Y, model=model):\n",
    "    model.eval()\n",
    "    acc = 0\n",
    "    for x_, y_ in zip(X,Y):\n",
    "        x_im = torch.tensor(cv2.imread(x_, cv2.IMREAD_GRAYSCALE).reshape(1,-1), dtype=torch.float)\n",
    "        y_out = model(x_im)\n",
    "        out = torch.argmax(y_out.data, 1)[0].item()\n",
    "#         print(\"out is\",out)\n",
    "        if out==y_:\n",
    "            acc += 1\n",
    "    return acc/len(X)"
   ]
  },
  {
   "cell_type": "code",
   "execution_count": 19,
   "metadata": {},
   "outputs": [
    {
     "data": {
      "text/plain": [
       "1.0"
      ]
     },
     "execution_count": 19,
     "metadata": {},
     "output_type": "execute_result"
    }
   ],
   "source": [
    "calAcc(x, y)"
   ]
  },
  {
   "cell_type": "code",
   "execution_count": 20,
   "metadata": {},
   "outputs": [],
   "source": [
    "i = 4"
   ]
  },
  {
   "cell_type": "code",
   "execution_count": 21,
   "metadata": {},
   "outputs": [],
   "source": [
    "x_im = torch.tensor(cv2.imread(x[i], cv2.IMREAD_GRAYSCALE).reshape(1,-1), dtype=torch.float)"
   ]
  },
  {
   "cell_type": "code",
   "execution_count": 22,
   "metadata": {},
   "outputs": [
    {
     "data": {
      "text/plain": [
       "tensor([[-107.8913, -135.3241, -123.4666, -100.9275, -113.7915, -147.3751,\n",
       "         -154.2601, -102.3216, -135.7217,    0.0000]],\n",
       "       grad_fn=<LogSoftmaxBackward>)"
      ]
     },
     "execution_count": 22,
     "metadata": {},
     "output_type": "execute_result"
    }
   ],
   "source": [
    "model(x_im)"
   ]
  },
  {
   "cell_type": "code",
   "execution_count": 23,
   "metadata": {},
   "outputs": [],
   "source": [
    "gg = cv2.imread(x[i], cv2.IMREAD_GRAYSCALE)"
   ]
  },
  {
   "cell_type": "code",
   "execution_count": 24,
   "metadata": {},
   "outputs": [],
   "source": [
    "cv2.imshow(\"im\", gg)\n",
    "cv2.waitKey(0)\n",
    "cv2.destroyAllWindows()"
   ]
  },
  {
   "cell_type": "code",
   "execution_count": 25,
   "metadata": {},
   "outputs": [],
   "source": [
    "PATH = 'myModel.pth'\n",
    "torch.save(model.state_dict(), PATH)"
   ]
  },
  {
   "cell_type": "code",
   "execution_count": null,
   "metadata": {},
   "outputs": [],
   "source": []
  }
 ],
 "metadata": {
  "kernelspec": {
   "display_name": "Python 3",
   "language": "python",
   "name": "python3"
  },
  "language_info": {
   "codemirror_mode": {
    "name": "ipython",
    "version": 3
   },
   "file_extension": ".py",
   "mimetype": "text/x-python",
   "name": "python",
   "nbconvert_exporter": "python",
   "pygments_lexer": "ipython3",
   "version": "3.7.4"
  }
 },
 "nbformat": 4,
 "nbformat_minor": 4
}
