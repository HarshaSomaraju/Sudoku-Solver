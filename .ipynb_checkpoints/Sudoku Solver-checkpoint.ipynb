{
 "cells": [
  {
   "cell_type": "code",
   "execution_count": 1,
   "metadata": {},
   "outputs": [],
   "source": [
    "import numpy as np"
   ]
  },
  {
   "cell_type": "code",
   "execution_count": 2,
   "metadata": {},
   "outputs": [],
   "source": [
    "board = np.zeros((9,9), dtype='int')"
   ]
  },
  {
   "cell_type": "code",
   "execution_count": 3,
   "metadata": {
    "scrolled": true
   },
   "outputs": [
    {
     "data": {
      "text/plain": [
       "array([[0, 0, 0, 0, 0, 0, 0, 0, 0],\n",
       "       [0, 0, 0, 0, 0, 0, 0, 0, 0],\n",
       "       [0, 0, 0, 0, 0, 0, 0, 0, 0],\n",
       "       [0, 0, 0, 0, 0, 0, 0, 0, 0],\n",
       "       [0, 0, 0, 0, 0, 0, 0, 0, 0],\n",
       "       [0, 0, 0, 0, 0, 0, 0, 0, 0],\n",
       "       [0, 0, 0, 0, 0, 0, 0, 0, 0],\n",
       "       [0, 0, 0, 0, 0, 0, 0, 0, 0],\n",
       "       [0, 0, 0, 0, 0, 0, 0, 0, 0]])"
      ]
     },
     "execution_count": 3,
     "metadata": {},
     "output_type": "execute_result"
    }
   ],
   "source": [
    "board"
   ]
  },
  {
   "cell_type": "markdown",
   "metadata": {},
   "source": [
    "    [0,0,0,6,0,0,1,0,7],\n",
    "    [6,8,0,9,5,1,3,0,0],\n",
    "    [0,0,3,0,0,2,5,6,8],\n",
    "    [0,4,0,8,1,0,0,2,0],\n",
    "    [0,0,0,0,0,0,8,5,0],\n",
    "    [0,9,0,0,6,5,0,7,3],\n",
    "    [4,0,9,0,0,3,0,8,5],\n",
    "    [1,6,2,0,0,9,0,3,0],\n",
    "    [5,0,0,7,0,6,0,0,0]"
   ]
  },
  {
   "cell_type": "code",
   "execution_count": 4,
   "metadata": {},
   "outputs": [],
   "source": [
    "example = [\n",
    "    [0,0,0,6,0,0,1,0,7],\n",
    "    [6,8,0,9,5,1,3,0,0],\n",
    "    [0,0,3,0,0,2,5,6,8],\n",
    "    [0,4,0,8,1,0,0,2,0],\n",
    "    [0,0,0,0,0,0,8,5,0],\n",
    "    [0,9,0,0,6,5,0,7,3],\n",
    "    [4,0,9,0,0,3,0,8,5],\n",
    "    [1,6,2,0,0,9,0,3,0],\n",
    "    [5,0,0,7,0,6,0,0,0]\n",
    "]"
   ]
  },
  {
   "cell_type": "code",
   "execution_count": 5,
   "metadata": {},
   "outputs": [],
   "source": [
    "board = np.array(example)"
   ]
  },
  {
   "cell_type": "code",
   "execution_count": 6,
   "metadata": {},
   "outputs": [],
   "source": [
    "temp = np.zeros((3,3,3,3), dtype='int')"
   ]
  },
  {
   "cell_type": "code",
   "execution_count": 7,
   "metadata": {},
   "outputs": [],
   "source": [
    "for i in range(9):\n",
    "    for j in range(9):\n",
    "        temp[i//3,j//3,i%3,j%3] = board[i,j]"
   ]
  },
  {
   "cell_type": "code",
   "execution_count": 8,
   "metadata": {},
   "outputs": [
    {
     "data": {
      "text/plain": [
       "array([[[[0, 0, 0],\n",
       "         [6, 8, 0],\n",
       "         [0, 0, 3]],\n",
       "\n",
       "        [[6, 0, 0],\n",
       "         [9, 5, 1],\n",
       "         [0, 0, 2]],\n",
       "\n",
       "        [[1, 0, 7],\n",
       "         [3, 0, 0],\n",
       "         [5, 6, 8]]],\n",
       "\n",
       "\n",
       "       [[[0, 4, 0],\n",
       "         [0, 0, 0],\n",
       "         [0, 9, 0]],\n",
       "\n",
       "        [[8, 1, 0],\n",
       "         [0, 0, 0],\n",
       "         [0, 6, 5]],\n",
       "\n",
       "        [[0, 2, 0],\n",
       "         [8, 5, 0],\n",
       "         [0, 7, 3]]],\n",
       "\n",
       "\n",
       "       [[[4, 0, 9],\n",
       "         [1, 6, 2],\n",
       "         [5, 0, 0]],\n",
       "\n",
       "        [[0, 0, 3],\n",
       "         [0, 0, 9],\n",
       "         [7, 0, 6]],\n",
       "\n",
       "        [[0, 8, 5],\n",
       "         [0, 3, 0],\n",
       "         [0, 0, 0]]]])"
      ]
     },
     "execution_count": 8,
     "metadata": {},
     "output_type": "execute_result"
    }
   ],
   "source": [
    "temp"
   ]
  },
  {
   "cell_type": "code",
   "execution_count": 9,
   "metadata": {},
   "outputs": [
    {
     "data": {
      "text/plain": [
       "array([[0, 0, 0, 6, 0, 0, 1, 0, 7],\n",
       "       [6, 8, 0, 9, 5, 1, 3, 0, 0],\n",
       "       [0, 0, 3, 0, 0, 2, 5, 6, 8],\n",
       "       [0, 4, 0, 8, 1, 0, 0, 2, 0],\n",
       "       [0, 0, 0, 0, 0, 0, 8, 5, 0],\n",
       "       [0, 9, 0, 0, 6, 5, 0, 7, 3],\n",
       "       [4, 0, 9, 0, 0, 3, 0, 8, 5],\n",
       "       [1, 6, 2, 0, 0, 9, 0, 3, 0],\n",
       "       [5, 0, 0, 7, 0, 6, 0, 0, 0]])"
      ]
     },
     "execution_count": 9,
     "metadata": {},
     "output_type": "execute_result"
    }
   ],
   "source": [
    "board"
   ]
  },
  {
   "cell_type": "code",
   "execution_count": 10,
   "metadata": {},
   "outputs": [],
   "source": [
    "cell_name = {\n",
    "    (0,0) : 'top left',\n",
    "    (0,1) : 'top middle',\n",
    "    (0,2) : 'top right',\n",
    "    (1,0) : 'center left',\n",
    "    (1,1) : 'center middle',\n",
    "    (1,2) : 'center right',\n",
    "    (2,0) : 'bottom left',\n",
    "    (2,1) : 'bottom middle',\n",
    "    (2,2) : 'bottom right'\n",
    "}"
   ]
  },
  {
   "cell_type": "code",
   "execution_count": 11,
   "metadata": {},
   "outputs": [],
   "source": [
    "def solve(board):\n",
    "    n = 1\n",
    "    solve_rules = []\n",
    "    counter=1\n",
    "    while(counter>0):\n",
    "        counter=0\n",
    "        for n in range(1,10):\n",
    "            nums = np.where(temp == n)\n",
    "            for i in range(3):\n",
    "                for j in range(3):\n",
    "                    num = zip(nums[0], nums[1])\n",
    "                    if (i,j) not in num:\n",
    "        #                 print('I am here')\n",
    "                        c_rows = nums[2][nums[0] == i]\n",
    "                        c_cols = nums[3][nums[1] == j]\n",
    "                        zero_cell_rows, zero_cell_cols = np.where(temp[i,j] == 0)\n",
    "                        zeros = zip(zero_cell_rows, zero_cell_cols)\n",
    "                        p_c = 0\n",
    "                        for z in zeros:\n",
    "                            if z[0] not in c_rows and z[1] not in c_cols:\n",
    "                                row,col = z\n",
    "                                p_c += 1\n",
    "                        if p_c == 1:\n",
    "                            counter += 1\n",
    "                            temp[i,j,row,col] = n\n",
    "                            txt = 'Put %d in %d row, %d column in %s cell because of %d in '%(n,row+1,col+1,cell_name[(i,j)],n)\n",
    "                            txt += ', '.join(map(lambda x: str(x+1),c_rows))\n",
    "                            if len(c_rows) > 1:\n",
    "                                txt += ' rows'\n",
    "                            elif len(c_rows) == 1:\n",
    "                                txt += ' row'\n",
    "                            if len(c_cols) != 0:\n",
    "                                txt += ' and in '\n",
    "                                txt += ', '.join(map(lambda x: str(x+1),c_cols)) \n",
    "                                if len(c_cols) > 1:\n",
    "                                    txt += ' cols'\n",
    "                                elif len(c_cols) == 1:\n",
    "                                    txt += ' col'\n",
    "\n",
    "                            solve_rules.append(txt)\n"
   ]
  },
  {
   "cell_type": "code",
   "execution_count": 12,
   "metadata": {},
   "outputs": [],
   "source": [
    "def check_all_nums(board, temp):\n",
    "    solve_rules = []\n",
    "    counter = 0\n",
    "    for n in range(1,10):\n",
    "        nums = np.where(temp == n)\n",
    "        for i in range(3):\n",
    "            for j in range(3):\n",
    "                num = zip(nums[0], nums[1])\n",
    "                if (i,j) not in num:\n",
    "    #                 print('I am here')\n",
    "                    c_rows = nums[2][nums[0] == i]\n",
    "                    c_cols = nums[3][nums[1] == j]\n",
    "                    zero_cell_rows, zero_cell_cols = np.where(temp[i,j] == 0)\n",
    "                    zeros = zip(zero_cell_rows, zero_cell_cols)\n",
    "                    p_c = 0\n",
    "                    for z in zeros:\n",
    "                        if z[0] not in c_rows and z[1] not in c_cols:\n",
    "                            row,col = z\n",
    "                            p_c += 1\n",
    "                    if p_c == 1:\n",
    "                        counter += 1\n",
    "                        temp[i,j,row,col] = n\n",
    "                        board[3*i+row, 3*j+col] = n\n",
    "                        txt = 'Put %d in %d row, %d column in %s cell because of %d in '%(n,row+1,col+1,cell_name[(i,j)],n)\n",
    "                        txt += ', '.join(map(lambda x: str(x+1),c_rows))\n",
    "                        if len(c_rows) > 1:\n",
    "                            txt += ' rows'\n",
    "                        elif len(c_rows) == 1:\n",
    "                            txt += ' row'\n",
    "                        if len(c_cols) != 0:\n",
    "                            txt += ' and in '\n",
    "                            txt += ', '.join(map(lambda x: str(x+1),c_cols)) \n",
    "                            if len(c_cols) > 1:\n",
    "                                txt += ' cols'\n",
    "                            elif len(c_cols) == 1:\n",
    "                                txt += ' col'\n",
    "\n",
    "                        solve_rules.append(txt)\n",
    "    return solve_rules, counter\n",
    "\n",
    "\n",
    "def fill_rows(board):\n",
    "    rules = []\n",
    "    counter = 0\n",
    "    for i in range(0,9):\n",
    "        n = np.where(board[i] == 0)[0]\n",
    "        if(len(n) == 1):\n",
    "            v = 45 - sum(board[i])\n",
    "            board[i, n[0]] = v\n",
    "            text = \"Put %d in %d row and %d column\" % (v, i+1, n[0]+1)\n",
    "            rules.append(text)\n",
    "            counter += 1\n",
    "    return rules, counter\n",
    "\n",
    "def fill_cols(board):\n",
    "    rules = []\n",
    "    counter = 0\n",
    "    for i in range(0,9):\n",
    "        n = np.where(board[:,i] == 0)[0]\n",
    "        if(len(n) == 1):\n",
    "            v = 45 - sum(board[i])\n",
    "            board[n[0], i] = v\n",
    "            text = \"Put %d in %d row and %d column\" % (v, n[0]+1, i+1)\n",
    "            rules.append(text)\n",
    "            counter += 1\n",
    "    return rules, counter"
   ]
  },
  {
   "cell_type": "code",
   "execution_count": 13,
   "metadata": {},
   "outputs": [
    {
     "data": {
      "text/plain": [
       "array([[0, 0, 0, 6, 0, 0, 1, 0, 7],\n",
       "       [6, 8, 0, 9, 5, 1, 3, 0, 0],\n",
       "       [0, 0, 3, 0, 0, 2, 5, 6, 8],\n",
       "       [0, 4, 0, 8, 1, 0, 0, 2, 0],\n",
       "       [0, 0, 0, 0, 0, 0, 8, 5, 0],\n",
       "       [0, 9, 0, 0, 6, 5, 0, 7, 3],\n",
       "       [4, 0, 9, 0, 0, 3, 0, 8, 5],\n",
       "       [1, 6, 2, 0, 0, 9, 0, 3, 0],\n",
       "       [5, 0, 0, 7, 0, 6, 0, 0, 0]])"
      ]
     },
     "execution_count": 13,
     "metadata": {},
     "output_type": "execute_result"
    }
   ],
   "source": [
    "board"
   ]
  },
  {
   "cell_type": "code",
   "execution_count": 14,
   "metadata": {},
   "outputs": [],
   "source": [
    "def solve(board):\n",
    "    temp = np.zeros((3,3,3,3), dtype='int')\n",
    "    for i in range(9):\n",
    "        for j in range(9):\n",
    "            temp[i//3,j//3,i%3,j%3] = board[i,j]\n",
    "#     print(temp)\n",
    "    n = 1\n",
    "    solve_rules = []\n",
    "    counter=1\n",
    "    while(counter>0):\n",
    "        counter = 0\n",
    "        sr, cr = check_all_nums(board, temp)\n",
    "        solve_rules.extend(sr)\n",
    "        counter += cr\n",
    "        \n",
    "        sr, cr = fill_rows(board)\n",
    "        solve_rules.extend(sr)\n",
    "        counter += cr\n",
    "        \n",
    "        sr, cr = fill_cols(board)\n",
    "        solve_rules.extend(sr)\n",
    "        counter += cr\n",
    "#         print(\"counter is\", counter)\n",
    "    co = set(np.unique(board, return_counts=True)[1])\n",
    "    if 9 in co and len(co) == 1:\n",
    "        return True, solve_rules, board\n",
    "    else:\n",
    "        return False, solve_rules, board\n",
    "        "
   ]
  },
  {
   "cell_type": "code",
   "execution_count": 15,
   "metadata": {},
   "outputs": [],
   "source": [
    "is_solved, rules, board = solve(board)"
   ]
  },
  {
   "cell_type": "code",
   "execution_count": 16,
   "metadata": {},
   "outputs": [
    {
     "data": {
      "text/plain": [
       "array([[2, 5, 4, 6, 3, 8, 1, 9, 7],\n",
       "       [6, 8, 7, 9, 5, 1, 3, 4, 2],\n",
       "       [9, 1, 3, 4, 7, 2, 5, 6, 8],\n",
       "       [3, 4, 5, 8, 1, 7, 9, 2, 6],\n",
       "       [7, 2, 6, 3, 9, 4, 8, 5, 1],\n",
       "       [8, 9, 1, 2, 6, 5, 4, 7, 3],\n",
       "       [4, 7, 9, 1, 2, 3, 6, 8, 5],\n",
       "       [1, 6, 2, 5, 8, 9, 7, 3, 4],\n",
       "       [5, 3, 8, 7, 4, 6, 2, 1, 9]])"
      ]
     },
     "execution_count": 16,
     "metadata": {},
     "output_type": "execute_result"
    }
   ],
   "source": [
    "board"
   ]
  },
  {
   "cell_type": "code",
   "execution_count": 17,
   "metadata": {},
   "outputs": [
    {
     "data": {
      "text/plain": [
       "(array([1, 2, 3, 4, 5, 6, 7, 8, 9]),\n",
       " array([9, 9, 9, 9, 9, 9, 9, 9, 9], dtype=int64))"
      ]
     },
     "execution_count": 17,
     "metadata": {},
     "output_type": "execute_result"
    }
   ],
   "source": [
    "np.unique(board, return_counts=True)"
   ]
  },
  {
   "cell_type": "markdown",
   "metadata": {},
   "source": [
    "### Reading sudoku board from image"
   ]
  },
  {
   "cell_type": "code",
   "execution_count": null,
   "metadata": {},
   "outputs": [],
   "source": [
    "# import the necessary packages\n",
    "from imutils.perspective import four_point_transform\n",
    "from skimage.segmentation import clear_border\n",
    "import numpy as np\n",
    "import imutils\n",
    "import cv2\n",
    "\n",
    "def find_puzzle(image, debug=True):\n",
    "    # convert the image to grayscale and blur it slightly\n",
    "    gray = cv2.cvtColor(image, cv2.COLOR_BGR2GRAY)\n",
    "    blurred = cv2.GaussianBlur(gray, (7, 7), 3)\n",
    "    \n",
    "    # apply adaptive thresholding and then invert the threshold map\n",
    "    thresh = cv2.adaptiveThreshold(blurred, 255, cv2.ADAPTIVE_THRESH_GAUSSIAN_C, cv2.THRESH_BINARY, 11, 2)\n",
    "    thresh = cv2.bitwise_not(thresh)\n",
    "    \n",
    "    # check to see if we are visualizing each step of the image\n",
    "    # processing pipeline (in this case, thresholding)\n",
    "    if debug:\n",
    "        cv2.imshow(\"Puzzle Thresh\", thresh)\n",
    "        cv2.waitKey(0)\n",
    "    \n",
    "    # find contours in the thresholded image and sort them by size in\n",
    "    # descending order\n",
    "    cnts = cv2.findContours(thresh.copy(), cv2.RETR_EXTERNAL, cv2.CHAIN_APPROX_SIMPLE)\n",
    "    cnts = imutils.grab_contours(cnts)\n",
    "    cnts = sorted(cnts, key=cv2.contourArea, reverse=True)\n",
    "    \n",
    "    # initialize a contour that corresponds to the puzzle outline\n",
    "    puzzleCnt = None\n",
    "    \n",
    "    # loop over the contours\n",
    "    for c in cnts:\n",
    "        # approximate the contour\n",
    "        peri = cv2.arcLength(c, True)\n",
    "        approx = cv2.approxPolyDP(c, 0.02 * peri, True)\n",
    "        \n",
    "        # if our approximated contour has four points, then we can\n",
    "        # assume we have found the outline of the puzzle\n",
    "        if len(approx) == 4:\n",
    "            puzzleCnt = approx\n",
    "            break\n",
    "    \n",
    "    # if the puzzle contour is empty then our script could not find\n",
    "    # the outline of the Sudoku puzzle so raise an error\n",
    "    if puzzleCnt is None:\n",
    "        raise Exception((\"Could not find Sudoku puzzle outline. \"\n",
    "            \"Try debugging your thresholding and contour steps.\"))\n",
    "    \n",
    "    # check to see if we are visualizing the outline of the detected\n",
    "    # Sudoku puzzle\n",
    "    if debug:\n",
    "        # draw the contour of the puzzle on the image and then display\n",
    "        # it to our screen for visualization/debugging purposes\n",
    "        output = image.copy()\n",
    "        cv2.drawContours(output, [puzzleCnt], -1, (0, 255, 0), 2)\n",
    "        cv2.imshow(\"Puzzle Outline\", output)\n",
    "        cv2.waitKey(0)\n",
    "        \n",
    "    # apply a four point perspective transform to both the original\n",
    "    # image and grayscale image to obtain a top-down bird's eye view\n",
    "    # of the puzzle\n",
    "    puzzle = four_point_transform(image, puzzleCnt.reshape(4, 2))\n",
    "    warped = four_point_transform(gray, puzzleCnt.reshape(4, 2))\n",
    "    \n",
    "    # check to see if we are visualizing the perspective transform\n",
    "    if debug:\n",
    "        # show the output warped image (again, for debugging purposes)\n",
    "        cv2.imshow(\"Puzzle Transform\", puzzle)\n",
    "        cv2.waitKey(0)\n",
    "    \n",
    "    # return a 2-tuple of puzzle in both RGB and grayscale\n",
    "    return (puzzle, warped)"
   ]
  },
  {
   "cell_type": "code",
   "execution_count": 19,
   "metadata": {},
   "outputs": [],
   "source": [
    "sudoku1_path = r\"Example\\sudoku4.jpg\"\n",
    "sudoku1 = cv2.imread(sudoku1_path)\n",
    "# debug = True\n",
    "\n",
    "# puzzle, warped = find_puzzle(sudoku1, debug=debug)"
   ]
  },
  {
   "cell_type": "code",
   "execution_count": 20,
   "metadata": {},
   "outputs": [],
   "source": [
    "# cv2.imshow(\"Puzzle\", puzzle)\n",
    "# cv2.waitKey(0)\n",
    "\n",
    "# cv2.imshow(\"Warped\", warped)\n",
    "# cv2.waitKey(0)\n",
    "\n",
    "# cv2.destroyAllWindows()"
   ]
  },
  {
   "cell_type": "code",
   "execution_count": 21,
   "metadata": {},
   "outputs": [],
   "source": [
    "def extract_digit(cell, debug=False):\n",
    "    # apply automatic thresholding to the cell and then clear any\n",
    "    # connected borders that touch the border of the cell\n",
    "    thresh = cv2.threshold(cell, 0, 255, cv2.THRESH_BINARY_INV | cv2.THRESH_OTSU)[1]\n",
    "    thresh = clear_border(thresh)\n",
    "    \n",
    "    # check to see if we are visualizing the cell thresholding step\n",
    "    if debug:\n",
    "        cv2.imshow(\"Cell Thresh\", thresh)\n",
    "        cv2.waitKey(0)\n",
    "    \n",
    "    # find contours in the thresholded cell\n",
    "    cnts = cv2.findContours(thresh.copy(), cv2.RETR_EXTERNAL, cv2.CHAIN_APPROX_SIMPLE)\n",
    "    cnts = imutils.grab_contours(cnts)\n",
    "    \n",
    "    # if no contours were found than this is an empty cell\n",
    "    if len(cnts) == 0:\n",
    "        return None\n",
    "    \n",
    "    # otherwise, find the largest contour in the cell and create a\n",
    "    # mask for the contour\n",
    "    c = max(cnts, key=cv2.contourArea)\n",
    "    mask = np.zeros(thresh.shape, dtype=\"uint8\")\n",
    "    cv2.drawContours(mask, [c], -1, 255, -1)\n",
    "    \n",
    "    # compute the percentage of masked pixels relative to the total\n",
    "    # area of the image\n",
    "    (h, w) = thresh.shape\n",
    "    percentFilled = cv2.countNonZero(mask) / float(w * h)\n",
    "    \n",
    "    # if less than 3% of the mask is filled then we are looking at\n",
    "    # noise and can safely ignore the contour\n",
    "    if percentFilled < 0.03:\n",
    "        return None\n",
    "    \n",
    "    # apply the mask to the thresholded cell\n",
    "    digit = cv2.bitwise_and(thresh, thresh, mask=mask)\n",
    "\n",
    "    # check to see if we should visualize the masking step\n",
    "    if debug:\n",
    "        cv2.imshow(\"Digit\", digit)\n",
    "        cv2.waitKey(0)\n",
    "    \n",
    "    # return the digit to the calling function\n",
    "    return digit"
   ]
  },
  {
   "cell_type": "code",
   "execution_count": 22,
   "metadata": {},
   "outputs": [
    {
     "name": "stdout",
     "output_type": "stream",
     "text": [
      "[INFO] processing image...\n"
     ]
    }
   ],
   "source": [
    "# load the input image from disk and resize it\n",
    "\n",
    "print(\"[INFO] processing image...\")\n",
    "image = cv2.imread(sudoku1_path)\n",
    "image = imutils.resize(image, width=600)\n",
    "\n",
    "debug = True"
   ]
  },
  {
   "cell_type": "code",
   "execution_count": 23,
   "metadata": {},
   "outputs": [],
   "source": [
    "# find the puzzle in the image and then\n",
    "(puzzleImage, warped) = find_puzzle(image, debug)\n",
    "\n",
    "# initialize our 9x9 Sudoku board\n",
    "board = np.zeros((9, 9), dtype=\"int\")\n",
    "\n",
    "# a Sudoku puzzle is a 9x9 grid (81 individual cells), so we can\n",
    "# infer the location of each cell by dividing the warped image\n",
    "# into a 9x9 grid\n",
    "stepX = warped.shape[1] // 9\n",
    "stepY = warped.shape[0] // 9\n",
    "\n",
    "# initialize a list to store the (x, y)-coordinates of each cell\n",
    "# location\n",
    "cellLocs = []\n",
    "\n",
    "cv2.destroyAllWindows()"
   ]
  },
  {
   "cell_type": "code",
   "execution_count": 24,
   "metadata": {},
   "outputs": [],
   "source": [
    "import numpy as np\n",
    "import torch\n",
    "import torchvision\n",
    "import matplotlib.pyplot as plt\n",
    "from time import time\n",
    "from torchvision import datasets, transforms\n",
    "from torch import nn, optim\n",
    "import torch.nn.functional as F\n",
    "\n",
    "# n_epochs = 3\n",
    "# batch_size_train = 64\n",
    "# batch_size_test = 1000\n",
    "# learning_rate = 0.01\n",
    "# momentum = 0.5\n",
    "# log_interval = 10\n",
    "\n",
    "# optimizer = optim.SGD(network.parameters(), lr=learning_rate, momentum=momentum)\n"
   ]
  },
  {
   "cell_type": "code",
   "execution_count": 25,
   "metadata": {},
   "outputs": [],
   "source": [
    "import os"
   ]
  },
  {
   "cell_type": "code",
   "execution_count": 26,
   "metadata": {},
   "outputs": [],
   "source": [
    "# if not os.path.isdir('Digitdata'):\n",
    "#     os.mkdir('Digitdata')\n",
    "#     for i in range(1, 10):\n",
    "#         os.mkdir('Digitdata/%d'%i)"
   ]
  },
  {
   "cell_type": "markdown",
   "metadata": {},
   "source": [
    "### Loading My Model"
   ]
  },
  {
   "cell_type": "code",
   "execution_count": 27,
   "metadata": {},
   "outputs": [
    {
     "data": {
      "text/plain": [
       "<All keys matched successfully>"
      ]
     },
     "execution_count": 27,
     "metadata": {},
     "output_type": "execute_result"
    }
   ],
   "source": [
    "# hyperparameters\n",
    "input_size = 784\n",
    "output_size = 10\n",
    "hidden_size = 200\n",
    "\n",
    "class Network(nn.Module):\n",
    "    \n",
    "    def __init__(self):\n",
    "        super(Network, self).__init__()\n",
    "        self.l1 = nn.Linear(input_size, hidden_size)\n",
    "        self.relu = nn.ReLU()\n",
    "        self.l3 = nn.Linear(hidden_size, output_size)\n",
    "        \n",
    "    def forward(self, x):\n",
    "        x = self.l1(x)\n",
    "        x = self.relu(x)\n",
    "        x = self.l3(x)\n",
    "        return F.log_softmax(x, dim=-1)\n",
    "    \n",
    "model = Network()\n",
    "\n",
    "PATH = 'myModel.pth'\n",
    "model.load_state_dict(torch.load(PATH))"
   ]
  },
  {
   "cell_type": "markdown",
   "metadata": {},
   "source": [
    "### Code to save digits"
   ]
  },
  {
   "cell_type": "code",
   "execution_count": 28,
   "metadata": {},
   "outputs": [],
   "source": [
    "# debud=True\n",
    "\n",
    "# di = 80\n",
    "# # loop over the grid locations\n",
    "# for y in range(0, 9):\n",
    "#     # initialize the current list of cell locations\n",
    "#     row = []\n",
    "    \n",
    "#     for x in range(0, 9):\n",
    "#         # compute the starting and ending (x, y)-coordinates of the\n",
    "#         # current cell\n",
    "#         startX = x * stepX\n",
    "#         startY = y * stepY\n",
    "#         endX = (x + 1) * stepX\n",
    "#         endY = (y + 1) * stepY\n",
    "        \n",
    "#         # add the (x, y)-coordinates to our cell locations list\n",
    "#         row.append((startX, startY, endX, endY))\n",
    "        \n",
    "#         # crop the cell from the warped transform image and then\n",
    "#         # extract the digit from the cell\n",
    "#         cell = warped[startY:endY, startX:endX]\n",
    "#         digit = extract_digit(cell, debug=debug)\n",
    "        \n",
    "#         # verify that the digit is not empty\n",
    "#         if digit is not None:\n",
    "            \n",
    "#             # resize the cell to 28x28 pixels and then prepare the\n",
    "#             # cell for classification\n",
    "#             roi = cv2.resize(digit, (28, 28))\n",
    "# #             roi = roi.astype(\"float\") / 255.0\n",
    "#             ans = model(torch.tensor(roi, dtype=torch.float).reshape(1,-1))\n",
    "# #             print(\"ans is: \",ans)\n",
    "# #             print(type(roi))\n",
    "# #             print(roi)\n",
    "# #             break\n",
    "#             num = torch.argmax(ans.data, 1)[0].item()\n",
    "#             print(num)\n",
    "#             actual_num = int(input(\"Num is: \"))\n",
    "#             cv2.imwrite('Digitdata/%d/%d.png' % (actual_num, di), roi)\n",
    "#             di += 1\n",
    "\n",
    "# #             roi = img_to_array(roi)\n",
    "# #             roi = np.expand_dims(roi, axis=0)\n",
    "\n",
    "# #             # classify the digit and update the Sudoku board with the\n",
    "# #             # prediction\n",
    "# #             pred = model.predict(roi).argmax(axis=1)[0]\n",
    "# #             board[y, x] = num\n",
    "    \n",
    "#     # add the row to our cell locations\n",
    "#     cellLocs.append(row)"
   ]
  },
  {
   "cell_type": "code",
   "execution_count": 29,
   "metadata": {},
   "outputs": [],
   "source": [
    "cv2.destroyAllWindows()"
   ]
  },
  {
   "cell_type": "markdown",
   "metadata": {},
   "source": [
    "### Code to build sudoku in python"
   ]
  },
  {
   "cell_type": "code",
   "execution_count": 30,
   "metadata": {},
   "outputs": [],
   "source": [
    "board = np.zeros((9, 9), dtype=np.int32)\n",
    "debug = False\n",
    "# loop over the grid locations\n",
    "for y in range(0, 9):\n",
    "    # initialize the current list of cell locations\n",
    "    row = []\n",
    "    \n",
    "    for x in range(0, 9):\n",
    "        # compute the starting and ending (x, y)-coordinates of the\n",
    "        # current cell\n",
    "        startX = x * stepX\n",
    "        startY = y * stepY\n",
    "        endX = (x + 1) * stepX\n",
    "        endY = (y + 1) * stepY\n",
    "        \n",
    "        # add the (x, y)-coordinates to our cell locations list\n",
    "        row.append((startX, startY, endX, endY))\n",
    "        \n",
    "        # crop the cell from the warped transform image and then\n",
    "        # extract the digit from the cell\n",
    "        cell = warped[startY:endY, startX:endX]\n",
    "        digit = extract_digit(cell, debug=debug)\n",
    "        \n",
    "        # verify that the digit is not empty\n",
    "        if digit is not None:\n",
    "            \n",
    "            # resize the cell to 28x28 pixels and then prepare the\n",
    "            # cell for classification\n",
    "            roi = cv2.resize(digit, (28, 28))\n",
    "#             roi = roi.astype(\"float\") / 255.0\n",
    "            ans = model(torch.tensor(roi, dtype=torch.float).reshape(1,-1))\n",
    "#             print(\"ans is: \",ans)\n",
    "#             print(type(roi))\n",
    "#             print(roi)\n",
    "#             break\n",
    "            num = torch.argmax(ans.data, 1)[0].item()\n",
    "#             PIL_roi = Image.fromarray(np.uint8(roi)).convert('RGB')\n",
    "#             num = getText(PIL_roi)\n",
    "#             print(num)\n",
    "\n",
    "#             roi = img_to_array(roi)\n",
    "#             roi = np.expand_dims(roi, axis=0)\n",
    "\n",
    "#             # classify the digit and update the Sudoku board with the\n",
    "#             # prediction\n",
    "#             pred = model.predict(roi).argmax(axis=1)[0]\n",
    "            board[y, x] = num\n",
    "    \n",
    "    # add the row to our cell locations\n",
    "    cellLocs.append(row)"
   ]
  },
  {
   "cell_type": "code",
   "execution_count": 31,
   "metadata": {},
   "outputs": [],
   "source": [
    "old_board = board.copy()"
   ]
  },
  {
   "cell_type": "code",
   "execution_count": 32,
   "metadata": {},
   "outputs": [
    {
     "data": {
      "text/plain": [
       "array([[0, 0, 0, 0, 9, 0, 5, 0, 1],\n",
       "       [0, 0, 0, 0, 0, 0, 0, 2, 0],\n",
       "       [8, 3, 0, 0, 2, 0, 0, 0, 0],\n",
       "       [0, 0, 4, 0, 1, 6, 7, 5, 0],\n",
       "       [3, 0, 0, 0, 7, 5, 0, 1, 8],\n",
       "       [0, 5, 0, 0, 0, 0, 0, 9, 0],\n",
       "       [4, 1, 0, 0, 0, 0, 9, 0, 2],\n",
       "       [7, 0, 3, 0, 0, 0, 1, 0, 0],\n",
       "       [0, 2, 0, 6, 5, 0, 0, 0, 4]])"
      ]
     },
     "execution_count": 32,
     "metadata": {},
     "output_type": "execute_result"
    }
   ],
   "source": [
    "board"
   ]
  },
  {
   "cell_type": "code",
   "execution_count": 33,
   "metadata": {},
   "outputs": [
    {
     "data": {
      "text/plain": [
       "array([[0, 0, 0, 0, 9, 0, 5, 0, 1],\n",
       "       [0, 0, 0, 0, 0, 0, 0, 2, 0],\n",
       "       [8, 3, 0, 0, 2, 0, 0, 0, 0],\n",
       "       [0, 0, 4, 0, 1, 6, 7, 5, 0],\n",
       "       [3, 0, 0, 0, 7, 5, 0, 1, 8],\n",
       "       [0, 5, 0, 0, 0, 0, 0, 9, 0],\n",
       "       [4, 1, 0, 0, 0, 0, 9, 0, 2],\n",
       "       [7, 0, 3, 0, 0, 0, 1, 0, 0],\n",
       "       [0, 2, 0, 6, 5, 0, 0, 0, 4]])"
      ]
     },
     "execution_count": 33,
     "metadata": {},
     "output_type": "execute_result"
    }
   ],
   "source": [
    "old_board"
   ]
  },
  {
   "cell_type": "code",
   "execution_count": 34,
   "metadata": {},
   "outputs": [],
   "source": [
    "is_solved, rules, board = solve(board)"
   ]
  },
  {
   "cell_type": "code",
   "execution_count": 35,
   "metadata": {},
   "outputs": [
    {
     "data": {
      "text/plain": [
       "['Put 1 in 3 row, 3 column in bottom middle cell because of 1 in 1, 2 rows and in 2 col',\n",
       " 'Put 5 in 1 row, 3 column in bottom left cell because of 5 in 3 row and in 2 col',\n",
       " 'Put 5 in 2 row, 3 column in bottom right cell because of 5 in 3 row and in 1, 2 cols',\n",
       " 'Put 6 in 2 row, 2 column in top middle cell because of 6 in  and in 3, 1 cols',\n",
       " 'Put 6 in 2 row, 2 column in bottom left cell because of 6 in 3 row',\n",
       " 'Put 7 in 3 row, 3 column in center left cell because of 7 in 2, 1 rows and in 1 col',\n",
       " 'Put 8 in 1 row, 2 column in center left cell because of 8 in 2 row and in 1 col',\n",
       " 'Put 8 in 3 row, 3 column in bottom left cell because of 8 in  and in 1 col',\n",
       " 'Put 9 in 3 row, 1 column in bottom left cell because of 9 in 1 row',\n",
       " 'Put 1 in 3 row, 1 column in center left cell because of 1 in 1, 2 rows and in 2 col',\n",
       " 'Put 5 in 2 row, 1 column in top left cell because of 5 in 1 row and in 2, 3 cols',\n",
       " 'Put 6 in 2 row, 3 column in center left cell because of 6 in 1 row and in 2 col',\n",
       " 'Put 6 in 1 row, 2 column in bottom right cell because of 6 in 2, 3 rows',\n",
       " 'Put 7 in 3 row, 2 column in bottom right cell because of 7 in 2 row and in 1 col',\n",
       " 'Put 8 in 2 row, 2 column in bottom right cell because of 8 in 3 row and in 3 col',\n",
       " 'Put 9 in 2 row, 2 column in center left cell because of 9 in 3 row and in 1 col',\n",
       " 'Put 3 in 9 row and 7 column',\n",
       " 'Put 2 in 1 row, 1 column in center left cell because of 2 in  and in 2 col',\n",
       " 'Put 3 in 3 row, 1 column in bottom right cell because of 3 in 2 row',\n",
       " 'Put 5 in 3 row, 1 column in top middle cell because of 5 in 2, 1 rows and in 3, 2 cols',\n",
       " 'Put 6 in 1 row, 1 column in top left cell because of 6 in 2 row and in 3, 2 cols',\n",
       " 'Put 8 in 2 row, 1 column in top right cell because of 8 in 3 row and in 3, 2 cols',\n",
       " 'Put 9 in 1 row, 1 column in center middle cell because of 9 in 2, 3 rows and in 2 col',\n",
       " 'Put 3 in 4 row and 9 column',\n",
       " 'Put 1 in 2 row, 1 column in top middle cell because of 1 in 1 row and in 2, 3 cols',\n",
       " 'Put 2 in 1 row, 3 column in top left cell because of 2 in 3, 2 rows and in 1, 2 cols',\n",
       " 'Put 9 in 2 row, 3 column in bottom middle cell because of 9 in 3, 1 rows and in 2, 1 cols',\n",
       " 'Put 1 in 3 row, 3 column in top left cell because of 1 in 2, 1 rows and in 1, 2 cols',\n",
       " 'Put 2 in 2 row, 1 column in bottom middle cell because of 2 in 3, 1 rows and in 2 col',\n",
       " 'Put 4 in 2 row, 2 column in bottom middle cell because of 4 in 1, 3 rows',\n",
       " 'Put 9 in 2 row, 3 column in top left cell because of 9 in 1 row and in 2, 1 cols',\n",
       " 'Put 2 in 3 row, 3 column in center middle cell because of 2 in 1 row and in 2, 1 cols',\n",
       " 'Put 9 in 3 row, 3 column in top right cell because of 9 in 2, 1 rows and in 2, 1 cols',\n",
       " 'Put 2 in 2 row, 1 column in center right cell because of 2 in 1, 3 rows and in 2, 3 cols',\n",
       " 'Put 4 in 3 row, 1 column in center right cell because of 4 in 1 row and in 3 col',\n",
       " 'Put 6 in 3 row, 1 column in top right cell because of 6 in 1, 2 rows and in 2 col',\n",
       " 'Put 6 in 3 row, 3 column in center right cell because of 6 in 2, 1 rows and in 2 col',\n",
       " 'Put 7 in 2 row, 3 column in top right cell because of 7 in  and in 1, 2 cols',\n",
       " 'Put 4 in 5 row and 4 column',\n",
       " 'Put 3 in 1 row, 2 column in top right cell because of 3 in 3 row and in 1 col',\n",
       " 'Put 3 in 1 row, 3 column in center right cell because of 3 in 2 row and in 1 col',\n",
       " 'Put 4 in 3 row, 2 column in top right cell because of 4 in  and in 1, 3 cols',\n",
       " 'Put 4 in 2 row, 1 column in center middle cell because of 4 in 1, 3 rows and in 2 col',\n",
       " 'Put 7 in 1 row, 2 column in top left cell because of 7 in 2 row and in 3, 1 cols',\n",
       " 'Put 7 in 3 row and 6 column',\n",
       " 'Put 7 in 2 row and 2 column',\n",
       " 'Put 3 in 2 row, 3 column in top middle cell because of 3 in 3, 1 rows',\n",
       " 'Put 4 in 2 row, 2 column in top left cell because of 4 in 3 row and in 3, 1 cols',\n",
       " 'Put 4 in 1 row, 3 column in top middle cell because of 4 in 3 row and in 1, 2 cols',\n",
       " 'Put 7 in 3 row, 3 column in top middle cell because of 7 in 1, 2 rows and in 2 col',\n",
       " 'Put 8 in 1 row, 1 column in top middle cell because of 8 in 3, 2 rows',\n",
       " 'Put 11 in 7 row and 6 column',\n",
       " 'Put 7 in 1 row, 1 column in bottom middle cell because of 7 in 2, 3 rows and in 3, 2 cols',\n",
       " 'Put 8 in 3 row, 2 column in center middle cell because of 8 in 1, 2 rows and in 1 col',\n",
       " 'Put 3 in 6 row and 4 column',\n",
       " 'Put 0 in 7 row and 5 column',\n",
       " 'Put 0 in 7 row and 5 column',\n",
       " 'Put 3 in 3 row, 1 column in center middle cell because of 3 in 2, 1 rows and in 3 col',\n",
       " 'Put 3 in 1 row, 2 column in bottom middle cell because of 3 in 2, 3 rows and in 3 col',\n",
       " 'Put 8 in 1 row, 3 column in bottom middle cell because of 8 in 3, 2 rows and in 1, 2 cols']"
      ]
     },
     "execution_count": 35,
     "metadata": {},
     "output_type": "execute_result"
    }
   ],
   "source": [
    "rules"
   ]
  },
  {
   "cell_type": "code",
   "execution_count": 36,
   "metadata": {},
   "outputs": [
    {
     "data": {
      "text/plain": [
       "True"
      ]
     },
     "execution_count": 36,
     "metadata": {},
     "output_type": "execute_result"
    }
   ],
   "source": [
    "is_solved"
   ]
  },
  {
   "cell_type": "code",
   "execution_count": 37,
   "metadata": {},
   "outputs": [
    {
     "data": {
      "text/plain": [
       "array([[6, 7, 2, 8, 9, 4, 5, 3, 1],\n",
       "       [5, 4, 9, 1, 6, 3, 8, 2, 7],\n",
       "       [8, 3, 1, 5, 2, 7, 6, 4, 9],\n",
       "       [2, 8, 4, 9, 1, 6, 7, 5, 3],\n",
       "       [3, 9, 6, 4, 7, 5, 2, 1, 8],\n",
       "       [1, 5, 7, 3, 8, 2, 4, 9, 6],\n",
       "       [4, 1, 5, 7, 3, 8, 9, 6, 2],\n",
       "       [7, 6, 3, 2, 4, 9, 1, 8, 5],\n",
       "       [9, 2, 8, 6, 5, 1, 3, 7, 4]])"
      ]
     },
     "execution_count": 37,
     "metadata": {},
     "output_type": "execute_result"
    }
   ],
   "source": [
    "board"
   ]
  },
  {
   "cell_type": "code",
   "execution_count": 38,
   "metadata": {},
   "outputs": [],
   "source": [
    "added_digits = board - old_board"
   ]
  },
  {
   "cell_type": "code",
   "execution_count": 39,
   "metadata": {},
   "outputs": [],
   "source": [
    "# rules"
   ]
  },
  {
   "cell_type": "code",
   "execution_count": 40,
   "metadata": {},
   "outputs": [],
   "source": [
    "def showImage(img):\n",
    "    cv2.imshow('image', img)\n",
    "    cv2.waitKey(0)\n",
    "    cv2.destroyAllWindows()"
   ]
  },
  {
   "cell_type": "code",
   "execution_count": 41,
   "metadata": {},
   "outputs": [],
   "source": [
    "stepX = warped.shape[1] // 9\n",
    "stepY = warped.shape[0] // 9"
   ]
  },
  {
   "cell_type": "code",
   "execution_count": 42,
   "metadata": {},
   "outputs": [
    {
     "data": {
      "text/plain": [
       "array([[6, 7, 2, 8, 0, 4, 0, 3, 0],\n",
       "       [5, 4, 9, 1, 6, 3, 8, 0, 7],\n",
       "       [0, 0, 1, 5, 0, 7, 6, 4, 9],\n",
       "       [2, 8, 0, 9, 0, 0, 0, 0, 3],\n",
       "       [0, 9, 6, 4, 0, 0, 2, 0, 0],\n",
       "       [1, 0, 7, 3, 8, 2, 4, 0, 6],\n",
       "       [0, 0, 5, 7, 3, 8, 0, 6, 0],\n",
       "       [0, 6, 0, 2, 4, 9, 0, 8, 5],\n",
       "       [9, 0, 8, 0, 0, 1, 3, 7, 0]])"
      ]
     },
     "execution_count": 42,
     "metadata": {},
     "output_type": "execute_result"
    }
   ],
   "source": [
    "added_digits"
   ]
  },
  {
   "cell_type": "code",
   "execution_count": 43,
   "metadata": {},
   "outputs": [],
   "source": [
    "old_puzzleImage = puzzleImage.copy()"
   ]
  },
  {
   "cell_type": "code",
   "execution_count": 44,
   "metadata": {},
   "outputs": [],
   "source": [
    "digit_images = [None] * 10\n",
    "\n",
    "import glob\n",
    "\n",
    "glob.glob('Digitdata/*')\n",
    "\n",
    "j = 1\n",
    "for j in range(1,10):\n",
    "    digit_images[j] = cv2.resize(cv2.imread(glob.glob('Digitdata/%d/*' % (j))[0], cv2.IMREAD_GRAYSCALE), (stepX, stepY))\n",
    "\n",
    "\n",
    "puzzleImage = old_puzzleImage.copy()\n",
    "for i in range(9):\n",
    "    for j in range(9):\n",
    "        if added_digits[i, j] == 0:\n",
    "            continue\n",
    "        startX = i * stepX\n",
    "        startY = j * stepY\n",
    "        endX = (i + 1) * stepX\n",
    "        endY = (j + 1) * stepY\n",
    "        t_im = cv2.bitwise_xor(digit_images[added_digits[i, j]], warped[startX: endX, startY: endY])\n",
    "        puzzleImage[startX: endX, startY: endY, 0] = t_im\n",
    "        puzzleImage[startX: endX, startY: endY, 1] = t_im  \n",
    "#         puzzleImage[startX: endX, startY: endY, 2] = t_im"
   ]
  },
  {
   "cell_type": "code",
   "execution_count": 45,
   "metadata": {},
   "outputs": [],
   "source": [
    "showImage(puzzleImage)"
   ]
  },
  {
   "cell_type": "code",
   "execution_count": null,
   "metadata": {},
   "outputs": [],
   "source": []
  }
 ],
 "metadata": {
  "kernelspec": {
   "display_name": "Python 3",
   "language": "python",
   "name": "python3"
  },
  "language_info": {
   "codemirror_mode": {
    "name": "ipython",
    "version": 3
   },
   "file_extension": ".py",
   "mimetype": "text/x-python",
   "name": "python",
   "nbconvert_exporter": "python",
   "pygments_lexer": "ipython3",
   "version": "3.7.4"
  }
 },
 "nbformat": 4,
 "nbformat_minor": 4
}
